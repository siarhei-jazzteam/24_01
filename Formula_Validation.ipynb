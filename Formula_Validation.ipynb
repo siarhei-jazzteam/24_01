{
 "cells": [
  {
   "cell_type": "markdown",
   "id": "8e24647b",
   "metadata": {},
   "source": [
    "# Formula Validation"
   ]
  },
  {
   "cell_type": "markdown",
   "id": "15e28fa1",
   "metadata": {},
   "source": [
    "$$\\hat{Y} = \\hat{\\beta}_{0) + \\sum \\limits _{j=1} ^{p} X_{j}\\hat{\\beta}_{j}$$"
   ]
  },
  {
   "cell_type": "markdown",
   "id": "165ecd30",
   "metadata": {},
   "source": [
    "## End"
   ]
  }
 ],
 "metadata": {
  "kernelspec": {
   "display_name": "Python 3",
   "language": "python",
   "name": "python3"
  },
  "language_info": {
   "codemirror_mode": {
    "name": "ipython",
    "version": 3
   },
   "file_extension": ".py",
   "mimetype": "text/x-python",
   "name": "python",
   "nbconvert_exporter": "python",
   "pygments_lexer": "ipython3",
   "version": "3.8.8"
  }
 },
 "nbformat": 4,
 "nbformat_minor": 5
}
